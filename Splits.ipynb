{
 "cells": [
  {
   "cell_type": "code",
   "execution_count": null,
   "id": "68769947",
   "metadata": {},
   "outputs": [],
   "source": [
    "import os\n",
    "import shutil\n",
    "\n",
    "import pandas as pd\n",
    "from tqdm.notebook import tqdm"
   ]
  },
  {
   "cell_type": "code",
   "execution_count": null,
   "id": "aa9807e3",
   "metadata": {},
   "outputs": [],
   "source": [
    "df_mod = pd.read_csv(\"modified.csv\", index_col=0)\n",
    "df_mod.head()"
   ]
  },
  {
   "cell_type": "markdown",
   "id": "fe3af477",
   "metadata": {},
   "source": [
    "### Verified"
   ]
  },
  {
   "cell_type": "code",
   "execution_count": null,
   "id": "ce44a7a3",
   "metadata": {},
   "outputs": [],
   "source": [
    "splits = sorted(list(set(df_mod.split)))\n",
    "labels = sorted(list(set(df_mod.verified)))\n",
    "\n",
    "for split in splits:\n",
    "    for label in tqdm(labels):\n",
    "        dst = os.path.join('data','verified',split,label)\n",
    "        if not os.path.isdir(dst):\n",
    "            os.makedirs(dst)\n",
    "        buf = df_mod[(df_mod.split==split)&(df_mod.verified==label)]\n",
    "        for row in buf.itertuples():\n",
    "            if not os.path.exists(os.path.join(dst,row.file)):\n",
    "                shutil.copy(os.path.join(row.path), os.path.join(dst,row.file))"
   ]
  },
  {
   "cell_type": "markdown",
   "id": "4273414f",
   "metadata": {},
   "source": [
    "### Clean"
   ]
  },
  {
   "cell_type": "code",
   "execution_count": null,
   "id": "8a0c2f64",
   "metadata": {},
   "outputs": [],
   "source": [
    "splits = sorted(list(set(df_mod.split)))\n",
    "labels = sorted(list(set(df_mod.verified)))\n",
    "\n",
    "for split in splits:\n",
    "    for label in tqdm(labels):\n",
    "        dst = os.path.join('data','clean',split,label)\n",
    "        if not os.path.isdir(dst):\n",
    "            os.makedirs(dst)\n",
    "        buf = df_mod[(df_mod.split==split)&(df_mod.verified==label)&(df_mod.legible==1)]\n",
    "        for row in buf.itertuples():\n",
    "            if not os.path.exists(os.path.join(dst,row.file)):\n",
    "                shutil.copy(os.path.join(row.path), os.path.join(dst,row.file))"
   ]
  },
  {
   "cell_type": "markdown",
   "id": "b3a8ac5a",
   "metadata": {},
   "source": [
    "### Easy"
   ]
  },
  {
   "cell_type": "code",
   "execution_count": null,
   "id": "bf934fbd",
   "metadata": {},
   "outputs": [],
   "source": [
    "splits = sorted(list(set(df_mod.split)))\n",
    "labels = sorted(list(set(df_mod.verified)))\n",
    "\n",
    "for split in splits:\n",
    "    for label in tqdm(labels):\n",
    "        dst = os.path.join('data','easy',split,label)\n",
    "        if not os.path.isdir(dst):\n",
    "            os.makedirs(dst)\n",
    "        buf = df_mod[(df_mod.split==split)&(df_mod.verified==label)&(df_mod.legible==1)&(df_mod.difficult==0)]\n",
    "        for row in buf.itertuples():\n",
    "            if not os.path.exists(os.path.join(dst,row.file)):\n",
    "                shutil.copy(os.path.join(row.path), os.path.join(dst,row.file))"
   ]
  },
  {
   "cell_type": "code",
   "execution_count": null,
   "id": "29f5a221",
   "metadata": {},
   "outputs": [],
   "source": []
  }
 ],
 "metadata": {
  "kernelspec": {
   "display_name": "Python 3",
   "language": "python",
   "name": "python3"
  },
  "language_info": {
   "codemirror_mode": {
    "name": "ipython",
    "version": 3
   },
   "file_extension": ".py",
   "mimetype": "text/x-python",
   "name": "python",
   "nbconvert_exporter": "python",
   "pygments_lexer": "ipython3",
   "version": "3.8.5"
  }
 },
 "nbformat": 4,
 "nbformat_minor": 5
}
