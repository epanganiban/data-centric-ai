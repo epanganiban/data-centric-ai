{
 "cells": [
  {
   "cell_type": "code",
   "execution_count": null,
   "id": "494a34f8",
   "metadata": {},
   "outputs": [],
   "source": [
    "import os\n",
    "import shutil\n",
    "\n",
    "import pandas as pd\n",
    "from tqdm.notebook import tqdm"
   ]
  },
  {
   "cell_type": "code",
   "execution_count": null,
   "id": "3efe8795",
   "metadata": {},
   "outputs": [],
   "source": [
    "df_mod = pd.read_csv(\"modified.csv\", index_col=0)\n",
    "df_mod.head()"
   ]
  },
  {
   "cell_type": "markdown",
   "id": "4b9a6810",
   "metadata": {},
   "source": [
    "### Verified"
   ]
  },
  {
   "cell_type": "code",
   "execution_count": null,
   "id": "4a26f60b",
   "metadata": {},
   "outputs": [],
   "source": [
    "splits = sorted(list(set(df_mod.split)))\n",
    "labels = sorted(list(set(df_mod.verified)))\n",
    "\n",
    "for split in splits:\n",
    "    for label in tqdm(labels):\n",
    "        dst = os.path.join('data','verified',split,label)\n",
    "        if not os.path.isdir(dst):\n",
    "            os.makedirs(dst)\n",
    "        buf = df_mod[(df_mod.split==split)&(df_mod.verified==label)]\n",
    "        for row in buf.itertuples():\n",
    "            if not os.path.exists(os.path.join(dst,row.file)):\n",
    "                shutil.copy(os.path.join(row.path), os.path.join(dst,row.file))"
   ]
  },
  {
   "cell_type": "markdown",
   "id": "4a03fbb9",
   "metadata": {},
   "source": [
    "### Clean"
   ]
  },
  {
   "cell_type": "code",
   "execution_count": null,
   "id": "35aa313c",
   "metadata": {},
   "outputs": [],
   "source": [
    "splits = sorted(list(set(df_mod.split)))\n",
    "labels = sorted(list(set(df_mod.verified)))\n",
    "\n",
    "for split in splits:\n",
    "    for label in tqdm(labels):\n",
    "        dst = os.path.join('data','clean',split,label)\n",
    "        if not os.path.isdir(dst):\n",
    "            os.makedirs(dst)\n",
    "        buf = df_mod[(df_mod.split==split)&(df_mod.verified==label)&(df_mod.legible==1)]\n",
    "        for row in buf.itertuples():\n",
    "            if not os.path.exists(os.path.join(dst,row.file)):\n",
    "                shutil.copy(os.path.join(row.path), os.path.join(dst,row.file))"
   ]
  },
  {
   "cell_type": "markdown",
   "id": "8d90515a",
   "metadata": {},
   "source": [
    "### Easy"
   ]
  },
  {
   "cell_type": "code",
   "execution_count": null,
   "id": "e6dad972",
   "metadata": {},
   "outputs": [],
   "source": [
    "splits = sorted(list(set(df_mod.split)))\n",
    "labels = sorted(list(set(df_mod.verified)))\n",
    "\n",
    "for split in splits:\n",
    "    for label in tqdm(labels):\n",
    "        dst = os.path.join('data','easy',split,label)\n",
    "        if not os.path.isdir(dst):\n",
    "            os.makedirs(dst)\n",
    "        buf = df_mod[(df_mod.split==split)&(df_mod.verified==label)&(df_mod.legible==1)&(df_mod.difficult==0)]\n",
    "        for row in buf.itertuples():\n",
    "            if not os.path.exists(os.path.join(dst,row.file)):\n",
    "                shutil.copy(os.path.join(row.path), os.path.join(dst,row.file))"
   ]
  },
  {
   "cell_type": "markdown",
   "id": "deebd050",
   "metadata": {},
   "source": [
    "### Balanced - Oversample"
   ]
  },
  {
   "cell_type": "code",
   "execution_count": null,
   "id": "cf6fb1ba",
   "metadata": {},
   "outputs": [],
   "source": [
    "splits = sorted(list(set(df_mod.split)))\n",
    "labels = sorted(list(set(df_mod.verified)))\n",
    "\n",
    "df_train = df_mod[(df_mod.legible==1)&(df_mod.split=='train')].groupby('verified').sample(\n",
    "    n=max(df_mod[(df_mod.legible==1)&(df_mod.split=='train')].groupby('verified').count()['file']), \n",
    "    random_state=42, \n",
    "    replace=True\n",
    ")\n",
    "df_train.groupby(['split','verified']).count()[['file']]"
   ]
  },
  {
   "cell_type": "code",
   "execution_count": null,
   "id": "f0993731",
   "metadata": {},
   "outputs": [],
   "source": [
    "df_val = df_mod[(df_mod.legible==1)&(df_mod.split=='val')].groupby('verified').sample(\n",
    "    n=max(df_mod[(df_mod.legible==1)&(df_mod.split=='val')].groupby('verified').count()['file']), \n",
    "    random_state=42, \n",
    "    replace=True\n",
    ")\n",
    "df_val.groupby(['split','verified']).count()[['file']]"
   ]
  },
  {
   "cell_type": "code",
   "execution_count": null,
   "id": "f3bc6044",
   "metadata": {},
   "outputs": [],
   "source": [
    "data = {\n",
    "    'train': df_train,\n",
    "    'val': df_val,\n",
    "}\n",
    "\n",
    "for split in splits:\n",
    "    for label in tqdm(labels):\n",
    "        dst = os.path.join('data','balanced',split,label)\n",
    "        if not os.path.isdir(dst):\n",
    "            os.makedirs(dst)\n",
    "        buf = data[split][(data[split].split==split)&(data[split].verified==label)]\n",
    "        for row in buf.itertuples():\n",
    "            if not os.path.exists(os.path.join(dst,row.file)):\n",
    "                shutil.copy(os.path.join(row.path), os.path.join(dst,row.file))\n",
    "            else:\n",
    "                base, extension = os.path.splitext(row.file)\n",
    "                i = 1\n",
    "                while os.path.exists(os.path.join(dst, '{}_{}{}'.format(base, i, extension))):\n",
    "                    i += 1\n",
    "                shutil.copy(os.path.join(row.path), os.path.join(dst, '{}_{}{}'.format(base, i, extension)))"
   ]
  },
  {
   "cell_type": "code",
   "execution_count": null,
   "id": "5041cf6e",
   "metadata": {},
   "outputs": [],
   "source": []
  }
 ],
 "metadata": {
  "kernelspec": {
   "display_name": "Python 3",
   "language": "python",
   "name": "python3"
  },
  "language_info": {
   "codemirror_mode": {
    "name": "ipython",
    "version": 3
   },
   "file_extension": ".py",
   "mimetype": "text/x-python",
   "name": "python",
   "nbconvert_exporter": "python",
   "pygments_lexer": "ipython3",
   "version": "3.8.5"
  }
 },
 "nbformat": 4,
 "nbformat_minor": 5
}
